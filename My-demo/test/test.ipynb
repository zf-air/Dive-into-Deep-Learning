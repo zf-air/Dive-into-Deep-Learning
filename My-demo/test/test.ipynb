{
 "cells": [
  {
   "cell_type": "code",
   "execution_count": 3,
   "metadata": {},
   "outputs": [],
   "source": [
    "import numpy as np\n",
    "from sklearn import svm  # 导入svm\n",
    "import joblib # 保存训练模型\n",
    "from sklearn.decomposition import PCA  # 降维处理\n",
    "import time # 计算训练时间\n",
    "import pickle"
   ]
  },
  {
   "cell_type": "code",
   "execution_count": 4,
   "metadata": {},
   "outputs": [],
   "source": [
    "# step1：读取数据\n",
    "Train = np.genfromtxt(\"zip.train.txt\")\n",
    "Test = np.genfromtxt(\"zip.test.txt\")"
   ]
  },
  {
   "cell_type": "code",
   "execution_count": 5,
   "metadata": {},
   "outputs": [],
   "source": [
    "n = 500\n",
    "m = 100"
   ]
  },
  {
   "cell_type": "code",
   "execution_count": 6,
   "metadata": {},
   "outputs": [],
   "source": [
    "train_label = Train[: n, 0]\n",
    "train_data = Train[: n, 1:]\n",
    "train_label[train_label != 1] = -1\n",
    "test_label = Test[: m, 0]\n",
    "test_data = Test[: m, 1:]\n",
    "test_label[test_label != 1] = -1\n",
    "t = time.time()"
   ]
  },
  {
   "cell_type": "code",
   "execution_count": 7,
   "metadata": {},
   "outputs": [
    {
     "name": "stdout",
     "output_type": "stream",
     "text": [
      "star pac\n",
      "(500, 48)\n"
     ]
    }
   ],
   "source": [
    "# step2：进行PCA降维，使运行速度变快\n",
    "\n",
    "print('star pac')\n",
    "pca = PCA(n_components=0.9, whiten=True)  # 保留百分之九十的信息\n",
    "train_x = pca.fit_transform(train_data)\n",
    "test_x = pca.transform(test_data)\n",
    "print(train_x.shape)"
   ]
  },
  {
   "cell_type": "code",
   "execution_count": 9,
   "metadata": {},
   "outputs": [
    {
     "name": "stdout",
     "output_type": "stream",
     "text": [
      "start svm\n"
     ]
    }
   ],
   "source": [
    "# step3：svm训练\n",
    "\n",
    "print('start svm')\n",
    "svc = svm.SVC(kernel = 'rbf', C = 10) # SVC用于多分类\n",
    "svc.fit(train_x,train_label)\n",
    "pre = svc.predict(test_x)"
   ]
  },
  {
   "cell_type": "code",
   "execution_count": 10,
   "metadata": {},
   "outputs": [
    {
     "name": "stdout",
     "output_type": "stream",
     "text": [
      "save model\n"
     ]
    },
    {
     "data": {
      "text/plain": [
       "['pca.m']"
      ]
     },
     "execution_count": 10,
     "metadata": {},
     "output_type": "execute_result"
    }
   ],
   "source": [
    "# step4:保存模型\n",
    "\n",
    "print('save model')\n",
    "joblib.dump(svc, 'svm_model.m')\n",
    "joblib.dump(pca, 'pca.m')"
   ]
  },
  {
   "cell_type": "code",
   "execution_count": 11,
   "metadata": {},
   "outputs": [
    {
     "name": "stdout",
     "output_type": "stream",
     "text": [
      "准确率：0.990000,花费时间：40.60s\n"
     ]
    }
   ],
   "source": [
    "# step5:计算准确率\n",
    "\n",
    "score = svc.score(test_x, test_label)\n",
    "time = time.time() - t\n",
    "print(u'准确率：%f,花费时间：%.2fs' % (score, time))"
   ]
  },
  {
   "cell_type": "code",
   "execution_count": null,
   "metadata": {},
   "outputs": [],
   "source": []
  }
 ],
 "metadata": {
  "interpreter": {
   "hash": "4905652b14e4b7eb92899b78ac499a22c488804455b27940a322fd82aaf71031"
  },
  "kernelspec": {
   "display_name": "Python 3.7.6 ('base')",
   "language": "python",
   "name": "python3"
  },
  "language_info": {
   "codemirror_mode": {
    "name": "ipython",
    "version": 3
   },
   "file_extension": ".py",
   "mimetype": "text/x-python",
   "name": "python",
   "nbconvert_exporter": "python",
   "pygments_lexer": "ipython3",
   "version": "3.7.6"
  },
  "orig_nbformat": 4
 },
 "nbformat": 4,
 "nbformat_minor": 2
}
